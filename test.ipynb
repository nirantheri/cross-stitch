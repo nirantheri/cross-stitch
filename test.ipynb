{
 "cells": [
  {
   "cell_type": "code",
   "execution_count": 16,
   "metadata": {},
   "outputs": [],
   "source": [
    "import pandas as pd\n",
    "from colorthief import ColorThief\n",
    "import cv2 as cv\n",
    "import numpy as np\n",
    "import matplotlib\n",
    "# import colormath\n",
    "from PIL import Image\n",
    "from tqdm import tqdm\n",
    "\n",
    "from colormath.color_objects import sRGBColor, LabColor\n",
    "\n",
    "from colormath.color_conversions import convert_color\n",
    "\n",
    "from colormath.color_diff import delta_e_cie2000\n",
    "import os"
   ]
  },
  {
   "cell_type": "code",
   "execution_count": null,
   "metadata": {},
   "outputs": [],
   "source": []
  },
  {
   "cell_type": "code",
   "execution_count": 17,
   "metadata": {},
   "outputs": [
    {
     "name": "stdout",
     "output_type": "stream",
     "text": [
      "minion.jpeg\n"
     ]
    }
   ],
   "source": [
    "pathname = \"minion\"\n",
    "pathext = \"jpeg\"\n",
    "# pathname = \"minnie\"\n",
    "# pathext = \"jpg\"\n",
    "path = pathname+'.'+pathext\n",
    "print(path)\n",
    "image = cv.imread(path)\n",
    "height, width, _ = image.shape\n",
    "\n",
    "# size = int(input(\"How many inches across?\"))\n",
    "# size = 14*size\n",
    "size = 30\n",
    "factor = size/width\n",
    "\n",
    "\n",
    "height = int(height * factor)\n",
    "width = int(width * factor)\n",
    "\n",
    "image_resize =cv.resize(image, (width, height), interpolation=cv.INTER_NEAREST)\n",
    "\n",
    "\n",
    "# cv.imshow(\"lala\", image)\n",
    "# cv.waitKey(0)\n",
    "# cv.imshow(\"lala2\", image_resize)\n",
    "# cv.waitKey(0)"
   ]
  },
  {
   "cell_type": "code",
   "execution_count": 18,
   "metadata": {},
   "outputs": [
    {
     "name": "stderr",
     "output_type": "stream",
     "text": [
      "100%|██████████| 327/327 [00:01<00:00, 185.56it/s]\n"
     ]
    }
   ],
   "source": [
    "import colormath.color_diff\n",
    "\n",
    "import numpy\n",
    "import random\n",
    "# from matplotlib.lines import Line2D\n",
    "\n",
    "\n",
    "def patch_asscalar(a):\n",
    "    return a.item()\n",
    "\n",
    "setattr(numpy, \"asscalar\", patch_asscalar)\n",
    "\n",
    "img = ColorThief(path)\n",
    "\n",
    "# num_colors = input(\"How many colors?\")\n",
    "num_colors = 10\n",
    "\n",
    "palette = img.get_palette(color_count=num_colors)\n",
    "palette.append((255, 255, 255))\n",
    "\n",
    "\n",
    "\n",
    "\n",
    "# for each pixel, calculate its difference from each of the palette colors and pick the closest difference\n",
    "reshaped = image_resize.reshape(-1, image_resize.shape[-1])\n",
    "image_list = np.unique(reshaped, axis=0)\n",
    "\n",
    "unique=[]\n",
    "for pixel in tqdm(image_list):\n",
    "\n",
    "        closest = 10000000\n",
    "        pixel_rgb = sRGBColor(pixel[2], pixel[1], pixel[0])\n",
    "        closecolor = (0, 0, 0)\n",
    "        pixelcolor = convert_color(pixel_rgb, LabColor)\n",
    "        for color in palette:\n",
    "            color_rgb = sRGBColor(color[0], color[1], color[2])\n",
    "            color_lab = convert_color(color_rgb, LabColor)\n",
    "            closer = delta_e_cie2000(color_lab, pixelcolor)\n",
    "            unique.append(closer)\n",
    "            if closer<closest:\n",
    "                # print(closer, closest)\n",
    "                closest = closer\n",
    "                closecolor = color\n",
    "        \n",
    "        \n",
    "        mask = np.all(image_resize==(pixel[0], pixel[1], pixel[2]), axis=-1)\n",
    "          \n",
    "        # print(symb_dict[closecolor])\n",
    "      \n",
    "        # image_resize[mask] = symb_dict[closecolor]\n",
    "        image_resize[mask] = (closecolor[2], closecolor[1], closecolor[0])\n"
   ]
  },
  {
   "cell_type": "code",
   "execution_count": 19,
   "metadata": {},
   "outputs": [],
   "source": [
    "symbols={'.': 'point',\n",
    "\n",
    " 'o': 'circle',\n",
    " 'v': 'triangle_down',\n",
    " '^': 'triangle_up',\n",
    " '<': 'triangle_left',\n",
    " '>': 'triangle_right',\n",
    " '1': 'tri_down',\n",
    " '2': 'tri_up',\n",
    " '3': 'tri_left',\n",
    " '4': 'tri_right',\n",
    "\n",
    " 's': 'square',\n",
    " 'p': 'pentagon',\n",
    " '*': 'star',\n",
    " 'h': 'hexagon1',\n",
    " 'H': 'hexagon2',\n",
    " '+': 'plus',\n",
    " 'x': 'x',\n",
    " 'D': 'diamond',\n",
    " 'd': 'thin_diamond',\n",
    "\n",
    " 8: 'caretleftbase',\n",
    " 9: 'caretrightbase',\n",
    " 10: 'caretupbase',\n",
    " 11: 'caretdownbase',\n",
    " 'None': 'nothing',\n",
    " None: 'nothing',\n",
    " ' ': 'nothing',\n",
    " '': 'nothing'}"
   ]
  },
  {
   "cell_type": "code",
   "execution_count": 20,
   "metadata": {},
   "outputs": [],
   "source": [
    "from PIL import ImageDraw\n",
    "\n",
    "image_rgb = image_resize[:, :, ::-1]\n",
    "\n",
    "# print(image_r)\n",
    "image = Image.fromarray(image_rgb)\n",
    "pixel_width = image.width\n",
    "pixel_height = image.height\n",
    "scale = 40\n",
    "image = image.resize((pixel_width*scale, pixel_height*scale), resample=Image.Resampling.NEAREST)\n",
    "# image = Image.new('RGBA', image.size, 'white')\n",
    "# Draw some lines\n",
    "draw = ImageDraw.Draw(image)\n",
    "y_start = 0\n",
    "y_end = image.height\n",
    "step_size = scale\n",
    "\n",
    "for x in range(0, image.width, step_size):\n",
    "    line = ((x, y_start), (x, y_end))\n",
    "    draw.line(line, fill='black', width=0)\n",
    "\n",
    "x_start = 0\n",
    "x_end = image.width\n",
    "\n",
    "for y in range(0, image.height, step_size):\n",
    "    line = ((x_start, y), (x_end, y))\n",
    "    draw.line(line, fill='black', width=0)\n",
    "\n",
    "del draw\n",
    "\n",
    "image.save('gridimage.png')\n",
    "\n",
    "# resized_image = image.resize((new_width, new_height), Image.NEAREST)\n"
   ]
  },
  {
   "cell_type": "code",
   "execution_count": 21,
   "metadata": {},
   "outputs": [
    {
     "name": "stdout",
     "output_type": "stream",
     "text": [
      "['aries.png', 'camera.png', 'cloud.png', 'divide.png', 'ex.png', 'filledcircle.png', 'filledheart.png', 'filledsun.png', 'foursquare.png', 'halfcircle.png', 'heartoutline.png', 'house.png', 'lefttriangle.png', 'loading.png', 'location.png', 'lock.png', 'magnify.png', 'moon.png', 'no.png', 'opencircle.png', 'opensquare.png', 'outwardarrow.png', 'paperclip.png', 'pause.png', 'phone.png', 'plus.png', 'power.png', 'rightarrow.png', 'star.png', 'textbubble.png', 'triangleup.png', 'twodot.png', 'uparrow.png', 'waves.png', 'x.png']\n",
      "['symbols/aries.png', 'symbols/camera.png', 'symbols/cloud.png', 'symbols/divide.png', 'symbols/ex.png', 'symbols/filledcircle.png', 'symbols/filledheart.png', 'symbols/filledsun.png', 'symbols/foursquare.png', 'symbols/halfcircle.png', 'symbols/heartoutline.png', 'symbols/house.png', 'symbols/lefttriangle.png', 'symbols/loading.png', 'symbols/location.png', 'symbols/lock.png', 'symbols/magnify.png', 'symbols/moon.png', 'symbols/no.png', 'symbols/opencircle.png', 'symbols/opensquare.png', 'symbols/outwardarrow.png', 'symbols/paperclip.png', 'symbols/pause.png', 'symbols/phone.png', 'symbols/plus.png', 'symbols/power.png', 'symbols/rightarrow.png', 'symbols/star.png', 'symbols/textbubble.png', 'symbols/triangleup.png', 'symbols/twodot.png', 'symbols/uparrow.png', 'symbols/waves.png', 'symbols/x.png']\n"
     ]
    }
   ],
   "source": [
    "import os\n",
    "\n",
    "print(os.listdir(\"symbols\"))\n",
    "\n",
    "symbols=[]\n",
    "for imgname in os.listdir(\"symbols\"):\n",
    "    # print(imgname)\n",
    "    symbols.append(r\"symbols/\"+imgname)\n",
    "    # symbols.append(imgname.replace(\".png\", \"\"))\n",
    "    \n",
    "print(symbols)"
   ]
  },
  {
   "cell_type": "code",
   "execution_count": null,
   "metadata": {},
   "outputs": [
    {
     "name": "stdout",
     "output_type": "stream",
     "text": [
      "1200\n",
      "1200\n",
      "1200\n",
      "(1200, 1600)\n"
     ]
    },
    {
     "name": "stderr",
     "output_type": "stream",
     "text": [
      "100%|██████████| 1200/1200 [00:00<00:00, 1465.44it/s]\n"
     ]
    }
   ],
   "source": [
    "#creating grid using pillow to OVERLAY.T\n",
    "# download set of images that can be used as a pattern\n",
    "\n",
    "# assign each to a tuple, use grid to do so.\n",
    "# max 16 colors?\n",
    "\n",
    "from itertools import product\n",
    "from math import isqrt\n",
    "from PIL import Image\n",
    "\n",
    "# Parameters\n",
    "# image.show()\n",
    "image_pix = image.copy()\n",
    "width = image_pix.width\n",
    "height = image_pix.height\n",
    "n_images = int((width*height)/(scale**2))\n",
    "# image_pix.show()\n",
    "# Dummy sample list of images\n",
    "sample_list = []\n",
    "\n",
    "#replace symbol list with images\n",
    "#replace all colors with symbols\n",
    "\n",
    "image2= image_resize.astype(str)\n",
    "\n",
    "\n",
    "\n",
    "palette_2 = np.array(palette, dtype=str)\n",
    "\n",
    "symb = random.sample(symbols, num_colors)\n",
    "\n",
    "symb_dict={}\n",
    "\n",
    "for i in range(len(palette)):\n",
    "    color = palette_2[i]\n",
    "    # print(color)\n",
    "    # print(color)\n",
    "    symb_dict[str(color)]=symb[i]\n",
    "#create new np array and use mask on it instead\n",
    "image_names= np.zeros((image2.shape[0], image2.shape[1])).astype(str)\n",
    "\n",
    "for color in palette_2:\n",
    "    color_reverse = [color[2], color[1], color[0]]\n",
    "\n",
    "\n",
    "    mask = np.all(image2==color_reverse, axis=-1)\n",
    "    # print(np.count_nonzero(mask))\n",
    "    # image2[mask]=symb_dict[str(color)]\n",
    "    image_names[mask]=symb_dict[str(color)]\n",
    "\n",
    "# image2 = image2[:,:, ::3].squeeze()\n",
    "# image_names= np.zeros((image2.shape[0], image2.shape[1])).astype(str)\n",
    "# uniques = np.unique(image_names)\n",
    "# for row in range(image_names.shape[0]-1):\n",
    "#     for cell in range(image_names.shape[1]-1):\n",
    "#         # print((image2[row][cell])[0])\n",
    "#         image_names[row][cell] = image2[row][cell][0]\n",
    "# print(image_names[0])\n",
    "# sample_list = [[Image.open(image_name).resize((width, height)) for image_name in row] for row in image_names]\n",
    "sample_list = image_names.flatten('F')\n",
    "print(f\"{len(sample_list)}\")\n",
    "# Determine positions from given parameters\n",
    "x_pos = [(i * scale+ pixel_width//4)  for i in range(pixel_width)]\n",
    "y_pos = [(i * scale+ pixel_width//4)  for i in range(pixel_height)]\n",
    "# positions = list(product(y_pos, x_pos))\n",
    "positions = list(product(x_pos, y_pos))\n",
    "print(f\"{len(positions)}\")\n",
    "print(f\"{pixel_height*pixel_width}\")\n",
    "# Build and save final image\n",
    "a = image_pix.copy().convert('RGBA')\n",
    "print(a.size)\n",
    "\n",
    "# a.save('im1.png')\n",
    "for i in tqdm(range(len(positions))): #positions and sample list aren't the same size... need to figure that out\n",
    "    symbol = Image.open(sample_list[i]).resize((width//int(scale*1.5), height//int(scale*1.5)), resample=Image.Resampling.NEAREST).convert('RGBA')\n",
    "    # if (i%300==0):\n",
    "    #     print(f\"{sample_list[i]}\")\n",
    "        # symbol.save(f'symbol{i}.png')\n",
    "        # symbol.show()\n",
    "    a.paste(symbol, positions[i], mask=symbol)\n",
    "a.save(f'patterns/img{pathname}.png')"
   ]
  },
  {
   "cell_type": "code",
   "execution_count": null,
   "metadata": {},
   "outputs": [
    {
     "data": {
      "text/plain": [
       "array([1, 2, 3, 4])"
      ]
     },
     "execution_count": 25,
     "metadata": {},
     "output_type": "execute_result"
    }
   ],
   "source": [
    "#get close colors, create the color key as well\n",
    "\n",
    "#make box color and with symbol in it, paste onto another image which has the dmc colors\n",
    "#print the symbol to the color\n",
    "\n",
    "#use original palette, find the closest rgb based on dmc_floss."
   ]
  },
  {
   "cell_type": "code",
   "execution_count": null,
   "metadata": {},
   "outputs": [],
   "source": []
  },
  {
   "cell_type": "code",
   "execution_count": 6,
   "metadata": {},
   "outputs": [],
   "source": [
    "#replace all colors with symbols\n",
    "\n",
    "image2= image_resize.astype(str)\n",
    "\n",
    "palette_2 = np.array(palette, dtype=str)\n",
    "\n",
    "symb = random.sample(list(symbols.keys()), num_colors)\n",
    "\n",
    "symb_dict={}\n",
    "\n",
    "for i in range(len(palette)):\n",
    "    color = palette_2[i]\n",
    "    # print(color)\n",
    "    # print(color)\n",
    "    symb_dict[str(color)]=symb[i]\n",
    "\n",
    "for color in palette_2:\n",
    "    color_reverse = [color[2], color[1], color[0]]\n",
    "\n",
    "\n",
    "    mask = np.all(image2==color_reverse, axis=-1)\n",
    "    # print(np.count_nonzero(mask))\n",
    "    image2[mask]=symb_dict[str(color)]\n",
    "\n",
    "image_2= np.zeros((image2.shape[0], image2.shape[1])).astype(str)\n",
    "uniques = np.unique(image_2)\n",
    "for row in range(image_2.shape[0]-1):\n",
    "    for cell in range(image_2.shape[1]-1):\n",
    "        # print((image2[row][cell])[0])\n",
    "        image_2[row][cell] = image2[row][cell][0]"
   ]
  },
  {
   "cell_type": "code",
   "execution_count": 7,
   "metadata": {},
   "outputs": [],
   "source": [
    "cv.imshow(\"string\", image)\n",
    "cv.waitKey(0)\n",
    "cv.imshow(\"first\", image_resize)\n",
    "cv.waitKey(0)\n",
    "\n",
    "indices = []\n",
    "\n",
    "for i in range(len(image2)-1):\n",
    "    for j in range(len(image2[0])-1):\n",
    "        indices.append((i,j))"
   ]
  },
  {
   "cell_type": "code",
   "execution_count": null,
   "metadata": {},
   "outputs": [
    {
     "ename": "TypeError",
     "evalue": "Image data of dtype <U32 cannot be converted to float",
     "output_type": "error",
     "traceback": [
      "\u001b[1;31m---------------------------------------------------------------------------\u001b[0m",
      "\u001b[1;31mTypeError\u001b[0m                                 Traceback (most recent call last)",
      "Cell \u001b[1;32mIn[11], line 21\u001b[0m\n\u001b[0;32m     19\u001b[0m \u001b[38;5;66;03m# Fill specific cells with markers\u001b[39;00m\n\u001b[0;32m     20\u001b[0m \u001b[38;5;28;01mfor\u001b[39;00m i, ax \u001b[38;5;129;01min\u001b[39;00m \u001b[38;5;28menumerate\u001b[39m(axes\u001b[38;5;241m.\u001b[39mflat):\n\u001b[1;32m---> 21\u001b[0m     \u001b[43max\u001b[49m\u001b[38;5;241;43m.\u001b[39;49m\u001b[43mimshow\u001b[49m\u001b[43m(\u001b[49m\u001b[43mimage_2\u001b[49m\u001b[43m[\u001b[49m\u001b[43mi\u001b[49m\u001b[43m]\u001b[49m\u001b[43m)\u001b[49m\n\u001b[0;32m     22\u001b[0m     ax\u001b[38;5;241m.\u001b[39maxis(\u001b[38;5;124m'\u001b[39m\u001b[38;5;124moff\u001b[39m\u001b[38;5;124m'\u001b[39m)\n\u001b[0;32m     23\u001b[0m \u001b[38;5;66;03m# for i, j in tqdm(indices[:1000]):\u001b[39;00m\n\u001b[0;32m     24\u001b[0m \u001b[38;5;66;03m#     ax.scatter(X[i, j], Y[i, j], marker=str(data[i,j]), s=10)  # Adjust fontsize as needed\u001b[39;00m\n\u001b[0;32m     25\u001b[0m \u001b[38;5;66;03m#     # ax.text(X[i, j], Y[i, j], str(data[i,j]), ha='center', va='center', fontsize=16)  # Adjust fontsize as needed\u001b[39;00m\n\u001b[0;32m     26\u001b[0m \n\u001b[0;32m     27\u001b[0m \u001b[38;5;66;03m# # Add grid lines\u001b[39;00m\n\u001b[0;32m     28\u001b[0m \u001b[38;5;66;03m# ax.grid(True)\u001b[39;00m\n",
      "File \u001b[1;32mc:\\Users\\niran\\anaconda3\\envs\\makingcs\\Lib\\site-packages\\matplotlib\\__init__.py:1473\u001b[0m, in \u001b[0;36m_preprocess_data.<locals>.inner\u001b[1;34m(ax, data, *args, **kwargs)\u001b[0m\n\u001b[0;32m   1470\u001b[0m \u001b[38;5;129m@functools\u001b[39m\u001b[38;5;241m.\u001b[39mwraps(func)\n\u001b[0;32m   1471\u001b[0m \u001b[38;5;28;01mdef\u001b[39;00m \u001b[38;5;21minner\u001b[39m(ax, \u001b[38;5;241m*\u001b[39margs, data\u001b[38;5;241m=\u001b[39m\u001b[38;5;28;01mNone\u001b[39;00m, \u001b[38;5;241m*\u001b[39m\u001b[38;5;241m*\u001b[39mkwargs):\n\u001b[0;32m   1472\u001b[0m     \u001b[38;5;28;01mif\u001b[39;00m data \u001b[38;5;129;01mis\u001b[39;00m \u001b[38;5;28;01mNone\u001b[39;00m:\n\u001b[1;32m-> 1473\u001b[0m         \u001b[38;5;28;01mreturn\u001b[39;00m \u001b[43mfunc\u001b[49m\u001b[43m(\u001b[49m\n\u001b[0;32m   1474\u001b[0m \u001b[43m            \u001b[49m\u001b[43max\u001b[49m\u001b[43m,\u001b[49m\n\u001b[0;32m   1475\u001b[0m \u001b[43m            \u001b[49m\u001b[38;5;241;43m*\u001b[39;49m\u001b[38;5;28;43mmap\u001b[39;49m\u001b[43m(\u001b[49m\u001b[43msanitize_sequence\u001b[49m\u001b[43m,\u001b[49m\u001b[43m \u001b[49m\u001b[43margs\u001b[49m\u001b[43m)\u001b[49m\u001b[43m,\u001b[49m\n\u001b[0;32m   1476\u001b[0m \u001b[43m            \u001b[49m\u001b[38;5;241;43m*\u001b[39;49m\u001b[38;5;241;43m*\u001b[39;49m\u001b[43m{\u001b[49m\u001b[43mk\u001b[49m\u001b[43m:\u001b[49m\u001b[43m \u001b[49m\u001b[43msanitize_sequence\u001b[49m\u001b[43m(\u001b[49m\u001b[43mv\u001b[49m\u001b[43m)\u001b[49m\u001b[43m \u001b[49m\u001b[38;5;28;43;01mfor\u001b[39;49;00m\u001b[43m \u001b[49m\u001b[43mk\u001b[49m\u001b[43m,\u001b[49m\u001b[43m \u001b[49m\u001b[43mv\u001b[49m\u001b[43m \u001b[49m\u001b[38;5;129;43;01min\u001b[39;49;00m\u001b[43m \u001b[49m\u001b[43mkwargs\u001b[49m\u001b[38;5;241;43m.\u001b[39;49m\u001b[43mitems\u001b[49m\u001b[43m(\u001b[49m\u001b[43m)\u001b[49m\u001b[43m}\u001b[49m\u001b[43m)\u001b[49m\n\u001b[0;32m   1478\u001b[0m     bound \u001b[38;5;241m=\u001b[39m new_sig\u001b[38;5;241m.\u001b[39mbind(ax, \u001b[38;5;241m*\u001b[39margs, \u001b[38;5;241m*\u001b[39m\u001b[38;5;241m*\u001b[39mkwargs)\n\u001b[0;32m   1479\u001b[0m     auto_label \u001b[38;5;241m=\u001b[39m (bound\u001b[38;5;241m.\u001b[39marguments\u001b[38;5;241m.\u001b[39mget(label_namer)\n\u001b[0;32m   1480\u001b[0m                   \u001b[38;5;129;01mor\u001b[39;00m bound\u001b[38;5;241m.\u001b[39mkwargs\u001b[38;5;241m.\u001b[39mget(label_namer))\n",
      "File \u001b[1;32mc:\\Users\\niran\\anaconda3\\envs\\makingcs\\Lib\\site-packages\\matplotlib\\axes\\_axes.py:5895\u001b[0m, in \u001b[0;36mAxes.imshow\u001b[1;34m(self, X, cmap, norm, aspect, interpolation, alpha, vmin, vmax, origin, extent, interpolation_stage, filternorm, filterrad, resample, url, **kwargs)\u001b[0m\n\u001b[0;32m   5892\u001b[0m \u001b[38;5;28;01mif\u001b[39;00m aspect \u001b[38;5;129;01mis\u001b[39;00m \u001b[38;5;129;01mnot\u001b[39;00m \u001b[38;5;28;01mNone\u001b[39;00m:\n\u001b[0;32m   5893\u001b[0m     \u001b[38;5;28mself\u001b[39m\u001b[38;5;241m.\u001b[39mset_aspect(aspect)\n\u001b[1;32m-> 5895\u001b[0m \u001b[43mim\u001b[49m\u001b[38;5;241;43m.\u001b[39;49m\u001b[43mset_data\u001b[49m\u001b[43m(\u001b[49m\u001b[43mX\u001b[49m\u001b[43m)\u001b[49m\n\u001b[0;32m   5896\u001b[0m im\u001b[38;5;241m.\u001b[39mset_alpha(alpha)\n\u001b[0;32m   5897\u001b[0m \u001b[38;5;28;01mif\u001b[39;00m im\u001b[38;5;241m.\u001b[39mget_clip_path() \u001b[38;5;129;01mis\u001b[39;00m \u001b[38;5;28;01mNone\u001b[39;00m:\n\u001b[0;32m   5898\u001b[0m     \u001b[38;5;66;03m# image does not already have clipping set, clip to Axes patch\u001b[39;00m\n",
      "File \u001b[1;32mc:\\Users\\niran\\anaconda3\\envs\\makingcs\\Lib\\site-packages\\matplotlib\\image.py:729\u001b[0m, in \u001b[0;36m_ImageBase.set_data\u001b[1;34m(self, A)\u001b[0m\n\u001b[0;32m    727\u001b[0m \u001b[38;5;28;01mif\u001b[39;00m \u001b[38;5;28misinstance\u001b[39m(A, PIL\u001b[38;5;241m.\u001b[39mImage\u001b[38;5;241m.\u001b[39mImage):\n\u001b[0;32m    728\u001b[0m     A \u001b[38;5;241m=\u001b[39m pil_to_array(A)  \u001b[38;5;66;03m# Needed e.g. to apply png palette.\u001b[39;00m\n\u001b[1;32m--> 729\u001b[0m \u001b[38;5;28mself\u001b[39m\u001b[38;5;241m.\u001b[39m_A \u001b[38;5;241m=\u001b[39m \u001b[38;5;28;43mself\u001b[39;49m\u001b[38;5;241;43m.\u001b[39;49m\u001b[43m_normalize_image_array\u001b[49m\u001b[43m(\u001b[49m\u001b[43mA\u001b[49m\u001b[43m)\u001b[49m\n\u001b[0;32m    730\u001b[0m \u001b[38;5;28mself\u001b[39m\u001b[38;5;241m.\u001b[39m_imcache \u001b[38;5;241m=\u001b[39m \u001b[38;5;28;01mNone\u001b[39;00m\n\u001b[0;32m    731\u001b[0m \u001b[38;5;28mself\u001b[39m\u001b[38;5;241m.\u001b[39mstale \u001b[38;5;241m=\u001b[39m \u001b[38;5;28;01mTrue\u001b[39;00m\n",
      "File \u001b[1;32mc:\\Users\\niran\\anaconda3\\envs\\makingcs\\Lib\\site-packages\\matplotlib\\image.py:692\u001b[0m, in \u001b[0;36m_ImageBase._normalize_image_array\u001b[1;34m(A)\u001b[0m\n\u001b[0;32m    690\u001b[0m A \u001b[38;5;241m=\u001b[39m cbook\u001b[38;5;241m.\u001b[39msafe_masked_invalid(A, copy\u001b[38;5;241m=\u001b[39m\u001b[38;5;28;01mTrue\u001b[39;00m)\n\u001b[0;32m    691\u001b[0m \u001b[38;5;28;01mif\u001b[39;00m A\u001b[38;5;241m.\u001b[39mdtype \u001b[38;5;241m!=\u001b[39m np\u001b[38;5;241m.\u001b[39muint8 \u001b[38;5;129;01mand\u001b[39;00m \u001b[38;5;129;01mnot\u001b[39;00m np\u001b[38;5;241m.\u001b[39mcan_cast(A\u001b[38;5;241m.\u001b[39mdtype, \u001b[38;5;28mfloat\u001b[39m, \u001b[38;5;124m\"\u001b[39m\u001b[38;5;124msame_kind\u001b[39m\u001b[38;5;124m\"\u001b[39m):\n\u001b[1;32m--> 692\u001b[0m     \u001b[38;5;28;01mraise\u001b[39;00m \u001b[38;5;167;01mTypeError\u001b[39;00m(\u001b[38;5;124mf\u001b[39m\u001b[38;5;124m\"\u001b[39m\u001b[38;5;124mImage data of dtype \u001b[39m\u001b[38;5;132;01m{\u001b[39;00mA\u001b[38;5;241m.\u001b[39mdtype\u001b[38;5;132;01m}\u001b[39;00m\u001b[38;5;124m cannot be \u001b[39m\u001b[38;5;124m\"\u001b[39m\n\u001b[0;32m    693\u001b[0m                     \u001b[38;5;124mf\u001b[39m\u001b[38;5;124m\"\u001b[39m\u001b[38;5;124mconverted to float\u001b[39m\u001b[38;5;124m\"\u001b[39m)\n\u001b[0;32m    694\u001b[0m \u001b[38;5;28;01mif\u001b[39;00m A\u001b[38;5;241m.\u001b[39mndim \u001b[38;5;241m==\u001b[39m \u001b[38;5;241m3\u001b[39m \u001b[38;5;129;01mand\u001b[39;00m A\u001b[38;5;241m.\u001b[39mshape[\u001b[38;5;241m-\u001b[39m\u001b[38;5;241m1\u001b[39m] \u001b[38;5;241m==\u001b[39m \u001b[38;5;241m1\u001b[39m:\n\u001b[0;32m    695\u001b[0m     A \u001b[38;5;241m=\u001b[39m A\u001b[38;5;241m.\u001b[39msqueeze(\u001b[38;5;241m-\u001b[39m\u001b[38;5;241m1\u001b[39m)  \u001b[38;5;66;03m# If just (M, N, 1), assume scalar and apply colormap.\u001b[39;00m\n",
      "\u001b[1;31mTypeError\u001b[0m: Image data of dtype <U32 cannot be converted to float"
     ]
    },
    {
     "data": {
      "image/png": "[encoded data removed]",
      "text/plain": [
       "<Figure size 640x480 with 4 Axes>"
      ]
     },
     "metadata": {},
     "output_type": "display_data"
    }
   ],
   "source": [
    "import numpy as np\n",
    "import matplotlib.pyplot as plt\n",
    "\n",
    "\n",
    "\n",
    "nrows = image_2.shape[0]\n",
    "ncols = image_2.shape[1]\n",
    "# data = np.array(image_2).astype(float)\n",
    "# Cellid = [2, 4 ,5, 11 ,45 ,48 ,98]\n",
    "# Cellval = [20, 45 ,55\n",
    "# Create a grid\n",
    "x = np.arange(nrows-1)\n",
    "y = np.arange(ncols-1)\n",
    "X, Y = np.meshgrid(x,y)\n",
    "\n",
    "# Create a figure and axes\n",
    "fig, axes = plt.subplots(2,2)\n",
    "\n",
    "# Fill specific cells with markers\n",
    "for i, ax in enumerate(axes.flat):\n",
    "    ax.imshow(image_2[i])\n",
    "    ax.axis('off')\n",
    "# for i, j in tqdm(indices[:1000]):\n",
    "#     ax.scatter(X[i, j], Y[i, j], marker=str(data[i,j]), s=10)  # Adjust fontsize as needed\n",
    "#     # ax.text(X[i, j], Y[i, j], str(data[i,j]), ha='center', va='center', fontsize=16)  # Adjust fontsize as needed\n",
    "\n",
    "# # Add grid lines\n",
    "# ax.grid(True)\n",
    "plt.imshow(image_resize, cmap='viridis')\n",
    "\n",
    "plt.show()\n",
    "\n",
    "#TRY TINKTER\n",
    "# import tkinter as tk\n",
    "# from PIL import Image, ImageTk\n",
    "\n",
    "# # Create the main window\n",
    "# root = tk.Tk()\n",
    "\n",
    "# # Load the image\n",
    "# image = Image.open(\"your_image.jpg\")  # Replace with the path to your image\n",
    "# image = ImageTk.PhotoImage(image)\n",
    "\n",
    "# # Create a label with the image\n",
    "# label = tk.Label(root, image=image)\n",
    "\n",
    "# # Place the label in a grid cell\n",
    "# label.grid(row=0, column=0)\n",
    "\n",
    "# # Start the GUI\n",
    "# root.mainloop()\n",
    "\n",
    "# https://stackoverflow.com/questions/65676937/function-to-make-grid-of-images\n",
    "# imagemagick\n",
    "\n",
    "# https://stackoverflow.com/questions/55517072/python-plotting-grid-based-on-values"
   ]
  },
  {
   "cell_type": "code",
   "execution_count": null,
   "metadata": {},
   "outputs": [
    {
     "data": {
      "image/png": "[encoded data removed]",
      "text/plain": [
       "<Figure size 640x480 with 1 Axes>"
      ]
     },
     "metadata": {},
     "output_type": "display_data"
    }
   ],
   "source": [
    "# Create a grid\n",
    "x = np.arange(5)\n",
    "y = np.arange(5)\n",
    "X, Y = np.meshgrid(x, y)\n",
    "\n",
    "# Create a figure and axes\n",
    "fig, ax = plt.subplots()\n",
    "\n",
    "# Fill specific cells with markers\n",
    "marker_indices = [(1, 2), (3, 0), (4, 4)]\n",
    "for i, j in marker_indices:\n",
    "    ax.scatter(X[i, j], Y[i, j], marker='o', s=100)  # Adjust marker size as needed\n",
    "\n",
    "# Add grid lines\n",
    "ax.grid(True)\n",
    "plt.show()"
   ]
  },
  {
   "cell_type": "code",
   "execution_count": 3,
   "metadata": {},
   "outputs": [],
   "source": [
    "path = \"minion.jpeg\"\n",
    "image = Image.open(path)\n",
    "height, width = image.size\n",
    "\n",
    "# size = int(input(\"How many inches across?\"))\n",
    "# size = 14*size\n",
    "size = 400\n",
    "factor = size/width\n",
    "\n",
    "\n",
    "height = int(height * factor)\n",
    "width = int(width * factor)\n",
    "\n",
    "image_resize =image.resize((height, width), resample=Image.Resampling.LANCZOS)\n",
    "\n",
    "image_resize.show()"
   ]
  },
  {
   "cell_type": "code",
   "execution_count": 8,
   "metadata": {},
   "outputs": [],
   "source": [
    "# num_colors = input(\"How many colors?\")\n",
    "num_colors = 6\n",
    "result = image.convert('P', palette=Image.ADAPTIVE, colors = num_colors).quantize(method=Image.Quantize.FASTOCTREE,colors=num_colors)\n",
    "result.convert('RGB').show()"
   ]
  }
 ],
 "metadata": {
  "kernelspec": {
   "display_name": "makingcs",
   "language": "python",
   "name": "python3"
  },
  "language_info": {
   "codemirror_mode": {
    "name": "ipython",
    "version": 3
   },
   "file_extension": ".py",
   "mimetype": "text/x-python",
   "name": "python",
   "nbconvert_exporter": "python",
   "pygments_lexer": "ipython3",
   "version": "3.12.7"
  }
 },
 "nbformat": 4,
 "nbformat_minor": 2
}
